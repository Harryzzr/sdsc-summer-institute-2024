{
 "cells": [
  {
   "cell_type": "code",
   "execution_count": 1,
   "id": "e82a8719-70a4-4627-aad2-3a7c74246c26",
   "metadata": {
    "collapsed": true,
    "jupyter": {
     "outputs_hidden": true
    }
   },
   "outputs": [
    {
     "name": "stdout",
     "output_type": "stream",
     "text": [
      "Defaulting to user installation because normal site-packages is not writeable\n",
      "Requirement already satisfied: numpy in /home/inealey/.local/lib/python3.8/site-packages (1.24.4)\n",
      "Requirement already satisfied: matplotlib in /home/inealey/.local/lib/python3.8/site-packages (3.3.4)\n",
      "Requirement already satisfied: PyVTK in /home/inealey/.local/lib/python3.8/site-packages (0.5.18)\n",
      "Requirement already satisfied: pyvista in /home/inealey/.local/lib/python3.8/site-packages (0.39.0)\n",
      "Requirement already satisfied: cycler>=0.10 in /home/inealey/.local/lib/python3.8/site-packages (from matplotlib) (0.10.0)\n",
      "Requirement already satisfied: kiwisolver>=1.0.1 in /home/inealey/.local/lib/python3.8/site-packages (from matplotlib) (1.3.1)\n",
      "Requirement already satisfied: pillow>=6.2.0 in /home/inealey/.local/lib/python3.8/site-packages (from matplotlib) (8.1.1)\n",
      "Requirement already satisfied: pyparsing!=2.0.4,!=2.1.2,!=2.1.6,>=2.0.3 in /home/inealey/.local/lib/python3.8/site-packages (from matplotlib) (2.4.7)\n",
      "Requirement already satisfied: python-dateutil>=2.1 in /home/inealey/.local/lib/python3.8/site-packages (from matplotlib) (2.8.2)\n",
      "Requirement already satisfied: six in /home/inealey/.local/lib/python3.8/site-packages (from PyVTK) (1.15.0)\n",
      "Requirement already satisfied: pooch in /home/inealey/.local/lib/python3.8/site-packages (from pyvista) (1.7.0)\n",
      "Requirement already satisfied: scooby>=0.5.1 in /home/inealey/.local/lib/python3.8/site-packages (from pyvista) (0.7.2)\n",
      "Requirement already satisfied: vtk in /home/inealey/.local/lib/python3.8/site-packages (from pyvista) (9.2.6)\n",
      "Requirement already satisfied: platformdirs>=2.5.0 in /home/inealey/.local/lib/python3.8/site-packages (from pooch->pyvista) (3.5.0)\n",
      "Requirement already satisfied: packaging>=20.0 in /home/inealey/.local/lib/python3.8/site-packages (from pooch->pyvista) (24.0)\n",
      "Requirement already satisfied: requests>=2.19.0 in /home/inealey/.local/lib/python3.8/site-packages (from pooch->pyvista) (2.31.0)\n",
      "Requirement already satisfied: charset-normalizer<4,>=2 in /home/inealey/.local/lib/python3.8/site-packages (from requests>=2.19.0->pooch->pyvista) (3.1.0)\n",
      "Requirement already satisfied: idna<4,>=2.5 in /usr/lib/python3/dist-packages (from requests>=2.19.0->pooch->pyvista) (2.8)\n",
      "Requirement already satisfied: urllib3<3,>=1.21.1 in /home/inealey/.local/lib/python3.8/site-packages (from requests>=2.19.0->pooch->pyvista) (2.2.1)\n",
      "Requirement already satisfied: certifi>=2017.4.17 in /usr/lib/python3/dist-packages (from requests>=2.19.0->pooch->pyvista) (2019.11.28)\n"
     ]
    }
   ],
   "source": [
    "!pip install numpy matplotlib PyVTK pyvista"
   ]
  },
  {
   "cell_type": "code",
   "execution_count": 2,
   "id": "902a9f7e",
   "metadata": {},
   "outputs": [],
   "source": [
    "from pyvtk import *\n",
    "import pyvista as pv\n",
    "import numpy as np\n",
    "import matplotlib.pyplot as plt\n",
    "import os"
   ]
  },
  {
   "cell_type": "code",
   "execution_count": 3,
   "id": "88c8ea84",
   "metadata": {},
   "outputs": [
    {
     "data": {
      "text/plain": [
       "\u001b[0;31mInit signature:\u001b[0m \u001b[0mVtkData\u001b[0m\u001b[0;34m(\u001b[0m\u001b[0;34m*\u001b[0m\u001b[0margs\u001b[0m\u001b[0;34m,\u001b[0m \u001b[0;34m**\u001b[0m\u001b[0mkws\u001b[0m\u001b[0;34m)\u001b[0m\u001b[0;34m\u001b[0m\u001b[0;34m\u001b[0m\u001b[0m\n",
       "\u001b[0;31mDocstring:\u001b[0m     \n",
       "VtkData\n",
       "=======\n",
       "\n",
       "Represents VTK file that has four relevant parts:\n",
       "  header    - string up to length 255\n",
       "  format    - string: ascii | binary\n",
       "  DataSet   - StructuredPoints | StructuredGrid | UnstructuredGrid\n",
       "              | RectilinearGrid | PolyData\n",
       "  Data      - PointData | CellData\n",
       "  \n",
       "Usage:\n",
       "------\n",
       "  v = VtkData(<DataSet instance> [,<header string>,<Data instances>,..])\n",
       "  v = VtkData(<filename>, only_structure = 0) - read VTK data from file.\n",
       "  v.tofile(filename, format = 'ascii') - save VTK data to file.\n",
       "Attributes:\n",
       "  header\n",
       "  structure\n",
       "  point_data\n",
       "  cell_data\n",
       "Public methods:\n",
       "  to_string(format = 'ascii')\n",
       "  tofile(filename, format = 'ascii')\n",
       "\n",
       "DataSet\n",
       "=======\n",
       "\n",
       "  StructuredPoints(<3-sequence of dimensions>\n",
       "                   [,<3-sequence of origin> [, <3-sequence of spacing>]])\n",
       "  StructuredGrid(<3-sequence of dimensions>,\n",
       "                 <sequence of 3-sequences of points>)\n",
       "  UnstructuredGrid(<sequence of 3-sequences of points>\n",
       "                   [,<cell> = <sequence of (sequences of) integers>])\n",
       "    cell - vertex | poly_vertex | line | poly_line | triangle\n",
       "           | triangle_strip | polygon | pixel | quad | tetra\n",
       "           | voxel | hexahedron | wedge | pyramid\n",
       "  RectilinearGrid([x = <sequence of x-coordinates>],\n",
       "                  [y = <sequence of y-coordinates>],\n",
       "                  [z = <sequence of z-coordinates>])\n",
       "  PolyData(<sequence of 3-sequences of points>,\n",
       "           [vertices = <sequence of (sequences of) integers>],\n",
       "           [lines = <sequence of (sequences of) integers>],\n",
       "           [polygons = <sequence of (sequences of) integers>],\n",
       "           [triangle_strips = <sequence of (sequences of) integers>])\n",
       "\n",
       "Data\n",
       "====\n",
       "\n",
       "  PointData | CellData ([<DataSetAttr instances>]) - construct Data instance\n",
       "\n",
       "DataSetAttr\n",
       "===========\n",
       "\n",
       "  DataSetAttr - Scalars | ColorScalars | LookupTable | Vectors\n",
       "                | Normals | TextureCoordinates | Tensors | Field\n",
       "  Scalars(<sequence of scalars> [,name[, lookup_table]])\n",
       "  ColorScalars(<sequence of scalar sequences> [,name])\n",
       "  LookupTable(<sequence of 4-sequences> [,name])\n",
       "  Vectors(<sequence of 3-sequences> [,name])\n",
       "  Normals(<sequence of 3-sequences> [,name])\n",
       "  TextureCoordinates(<sequence of (1,2, or 3)-sequences> [,name])\n",
       "  Tensors(<sequence of (3x3)-sequences> [,name])\n",
       "  Field([name,] [arrayname_1 = sequence of n_1-sequences, ...\n",
       "                 arrayname_m = sequence of n_m-sequences,])\n",
       "    where len(array_1) == .. == len(array_m) must hold.\n",
       "\u001b[0;31mFile:\u001b[0m           ~/.local/lib/python3.8/site-packages/pyvtk/__init__.py\n",
       "\u001b[0;31mType:\u001b[0m           type\n",
       "\u001b[0;31mSubclasses:\u001b[0m     "
      ]
     },
     "metadata": {},
     "output_type": "display_data"
    }
   ],
   "source": [
    "VtkData?"
   ]
  },
  {
   "cell_type": "markdown",
   "id": "84fff21e",
   "metadata": {},
   "source": [
    "## Example 1:\n",
    "\n",
    "### PolyData"
   ]
  },
  {
   "cell_type": "markdown",
   "id": "8428670f",
   "metadata": {},
   "source": [
    "#### define dataset:"
   ]
  },
  {
   "cell_type": "code",
   "execution_count": 4,
   "id": "819029ba",
   "metadata": {},
   "outputs": [],
   "source": [
    "structure = PolyData(\n",
    "    points=[[0,0,0],[1,0,0],[1,1,0],[0,1,0],\n",
    "            [0,0,1],[1,0,1],[1,1,1],[0,1,1]],\n",
    "    \n",
    "    \n",
    "    polygons=[[0,1,2,3],[4,5,6,7],[0,1,5,4],\n",
    "            [2,3,7,6],[0,4,7,3],[1,2,6,5]] )"
   ]
  },
  {
   "cell_type": "code",
   "execution_count": 5,
   "id": "a5953469",
   "metadata": {},
   "outputs": [],
   "source": [
    "pointdata = PointData(\n",
    "    Scalars( [0,1,2,3,4,5,6,7],\n",
    "             name='sample_scalars' ) )"
   ]
  },
  {
   "cell_type": "code",
   "execution_count": 6,
   "id": "3cc4c175",
   "metadata": {},
   "outputs": [],
   "source": [
    "celldata = CellData(\n",
    "    Scalars( [0,1,2,3,4,5],\n",
    "             name='cell_scalars'),\n",
    "    \n",
    "    Normals( [[0,0,1],[0,0,1],[0,-1,0],\n",
    "             [0,1,0],[-1,0,0],[1,0,0]],\n",
    "             name='cell_normals'),\n",
    "    \n",
    "    Field( 'FieldData',\n",
    "           cellIds=[[0],[1],[2],[3],[4],[5]] )\n",
    ")"
   ]
  },
  {
   "cell_type": "code",
   "execution_count": 7,
   "id": "bd802033",
   "metadata": {},
   "outputs": [],
   "source": [
    "vtk_dataset_1 = VtkData( structure, pointdata, celldata )"
   ]
  },
  {
   "cell_type": "markdown",
   "id": "39aa80c5",
   "metadata": {},
   "source": [
    "### write dataset to file"
   ]
  },
  {
   "cell_type": "code",
   "execution_count": 8,
   "id": "0bf0ec57",
   "metadata": {},
   "outputs": [],
   "source": [
    "vtk_dataset_1.tofile( 'vtk_example_1a', 'ascii' )\n",
    "vtk_dataset_1.tofile( 'vtk_example_1b', 'binary' )"
   ]
  },
  {
   "cell_type": "markdown",
   "id": "13db28b5",
   "metadata": {},
   "source": [
    "#### Activities:\n",
    "\n",
    "- render with pyvista\n",
    "- experiment with plotting options\n",
    "- open dataset in ParaView\n",
    "- adjust representation type and colormap"
   ]
  },
  {
   "cell_type": "markdown",
   "id": "88168399",
   "metadata": {},
   "source": [
    "## Example 2:\n",
    "\n",
    "### Structured Grid\n",
    "\n",
    "#### explicitly defined point values"
   ]
  },
  {
   "cell_type": "code",
   "execution_count": 9,
   "id": "c272c8a9",
   "metadata": {},
   "outputs": [],
   "source": [
    "vtk_dataset_2 = VtkData( \n",
    "    \n",
    "                StructuredPoints([3,4,6]),\n",
    "\n",
    "                PointData(\n",
    "                    Scalars([0,0,0,0,0,0,0,0,0,0,0,0,\n",
    "                            0,5,10,15,20,25,25,20,15,10,5,0,\n",
    "                            0,10,20,30,40,50,50,40,30,20,10,0,\n",
    "                            0,10,20,30,40,50,50,40,30,20,10,0,\n",
    "                            0,5,10,15,20,25,25,20,15,10,5,0,\n",
    "                            0,0,0,0,0,0,0,0,0,0,0,0])) )"
   ]
  },
  {
   "cell_type": "code",
   "execution_count": 10,
   "id": "b0f4061f",
   "metadata": {},
   "outputs": [],
   "source": [
    "vtk_dataset_2.tofile('vtk_example_2')"
   ]
  },
  {
   "cell_type": "markdown",
   "id": "4667c4c9",
   "metadata": {},
   "source": [
    "#### Activities:\n",
    "\n",
    "- render with pyvista\n",
    "- open in paraview\n",
    "- compare point and volume representations\n",
    "- apply a filter "
   ]
  },
  {
   "cell_type": "markdown",
   "id": "b6254288",
   "metadata": {},
   "source": [
    "## Example 3:\n",
    "\n",
    "#### programmatically define Scalars"
   ]
  },
  {
   "cell_type": "code",
   "execution_count": 27,
   "id": "1e83afda",
   "metadata": {},
   "outputs": [],
   "source": [
    "def f(x,y,z):\n",
    "    return x * y * z"
   ]
  },
  {
   "cell_type": "code",
   "execution_count": 28,
   "id": "d2838a02",
   "metadata": {},
   "outputs": [],
   "source": [
    "vtk_dataset_3 = VtkData('vtk_example_2', only_structure = True )"
   ]
  },
  {
   "cell_type": "code",
   "execution_count": 29,
   "id": "fb290ba9",
   "metadata": {},
   "outputs": [],
   "source": [
    "vtk_dataset_3.point_data.append( vtk_dataset_3.structure.Scalars( f, 'x*y*z' ) )"
   ]
  },
  {
   "cell_type": "code",
   "execution_count": 30,
   "id": "77e6d074",
   "metadata": {},
   "outputs": [],
   "source": [
    "vtk_dataset_3.tofile('vtk_example_2f_sp')"
   ]
  },
  {
   "cell_type": "markdown",
   "id": "8b39c818",
   "metadata": {},
   "source": [
    "## Example 4:\n",
    "\n",
    "#### Structured Grid"
   ]
  },
  {
   "cell_type": "code",
   "execution_count": 32,
   "id": "eb178ad4",
   "metadata": {
    "collapsed": true,
    "jupyter": {
     "outputs_hidden": true
    }
   },
   "outputs": [
    {
     "name": "stdout",
     "output_type": "stream",
     "text": [
      "[[ 0  0  0]\n",
      " [ 2  0  0]\n",
      " [ 4  0  0]\n",
      " [ 0  2  0]\n",
      " [ 2  2  0]\n",
      " [ 4  2  0]\n",
      " [ 0  4  0]\n",
      " [ 2  4  0]\n",
      " [ 4  4  0]\n",
      " [ 0  6  0]\n",
      " [ 2  6  0]\n",
      " [ 4  6  0]\n",
      " [ 0  0  2]\n",
      " [ 2  0  2]\n",
      " [ 4  0  2]\n",
      " [ 0  2  2]\n",
      " [ 2  2  2]\n",
      " [ 4  2  2]\n",
      " [ 0  4  2]\n",
      " [ 2  4  2]\n",
      " [ 4  4  2]\n",
      " [ 0  6  2]\n",
      " [ 2  6  2]\n",
      " [ 4  6  2]\n",
      " [ 0  0  4]\n",
      " [ 2  0  4]\n",
      " [ 4  0  4]\n",
      " [ 0  2  4]\n",
      " [ 2  2  4]\n",
      " [ 4  2  4]\n",
      " [ 0  4  4]\n",
      " [ 2  4  4]\n",
      " [ 4  4  4]\n",
      " [ 0  6  4]\n",
      " [ 2  6  4]\n",
      " [ 4  6  4]\n",
      " [ 0  0  6]\n",
      " [ 2  0  6]\n",
      " [ 4  0  6]\n",
      " [ 0  2  6]\n",
      " [ 2  2  6]\n",
      " [ 4  2  6]\n",
      " [ 0  4  6]\n",
      " [ 2  4  6]\n",
      " [ 4  4  6]\n",
      " [ 0  6  6]\n",
      " [ 2  6  6]\n",
      " [ 4  6  6]\n",
      " [ 0  0  8]\n",
      " [ 2  0  8]\n",
      " [ 4  0  8]\n",
      " [ 0  2  8]\n",
      " [ 2  2  8]\n",
      " [ 4  2  8]\n",
      " [ 0  4  8]\n",
      " [ 2  4  8]\n",
      " [ 4  4  8]\n",
      " [ 0  6  8]\n",
      " [ 2  6  8]\n",
      " [ 4  6  8]\n",
      " [ 0  0 10]\n",
      " [ 2  0 10]\n",
      " [ 4  0 10]\n",
      " [ 0  2 10]\n",
      " [ 2  2 10]\n",
      " [ 4  2 10]\n",
      " [ 0  4 10]\n",
      " [ 2  4 10]\n",
      " [ 4  4 10]\n",
      " [ 0  6 10]\n",
      " [ 2  6 10]\n",
      " [ 4  6 10]]\n"
     ]
    }
   ],
   "source": [
    "pp = np.array([(i*2,j*2,k*2) for k in range(6) for j in range(4) for i in range(3)])"
   ]
  },
  {
   "cell_type": "code",
   "execution_count": 33,
   "id": "28048145",
   "metadata": {},
   "outputs": [],
   "source": [
    "vtk_dataset_4 = VtkData( StructuredGrid([3,4,6], pp))\n",
    "vtk_dataset_4.point_data.append(vtk_dataset_4.structure.Scalars(f,'x*y*z'))"
   ]
  },
  {
   "cell_type": "code",
   "execution_count": 34,
   "id": "fba6e913",
   "metadata": {},
   "outputs": [],
   "source": [
    "vtk_dataset_4.tofile('example2f_sg')"
   ]
  },
  {
   "cell_type": "markdown",
   "id": "c4ffef5b",
   "metadata": {},
   "source": [
    "## Example 5:\n",
    "\n",
    "#### Rectilinear Grid"
   ]
  },
  {
   "cell_type": "code",
   "execution_count": 36,
   "id": "acd6075a",
   "metadata": {},
   "outputs": [],
   "source": [
    "vtk_dataset_5 = VtkData(RectilinearGrid(range(6),range(8),range(12)))\n",
    "vtk_dataset_5.point_data.append(vtk_dataset_5.structure.Scalars(f,'x*y*z'))"
   ]
  },
  {
   "cell_type": "code",
   "execution_count": 37,
   "id": "fbbda1eb",
   "metadata": {},
   "outputs": [],
   "source": [
    "vtk_dataset_5.tofile('example2f_rg')"
   ]
  },
  {
   "cell_type": "markdown",
   "id": "5eafe9c0",
   "metadata": {},
   "source": [
    "#### Activities:\n",
    "\n",
    "- compare datasets\n",
    "- visualize in different renderview windows / notebook cells"
   ]
  },
  {
   "cell_type": "markdown",
   "id": "72dc8133",
   "metadata": {},
   "source": [
    "## Example 6:\n",
    "\n",
    "#### Unstructured Grid"
   ]
  },
  {
   "cell_type": "code",
   "execution_count": 42,
   "id": "3e8dd878",
   "metadata": {},
   "outputs": [],
   "source": [
    "points = [[0,0,0],[1,0,0],[2,0,0],[0,1,0],[1,1,0],[2,1,0],\n",
    "          [0,0,1],[1,0,1],[2,0,1],[0,1,1],[1,1,1],[2,1,1],\n",
    "          [0,1,2],[1,1,2],[2,1,2],[0,1,3],[1,1,3],[2,1,3],\n",
    "          [0,1,4],[1,1,4],[2,1,4],[0,1,5],[1,1,5],[2,1,5],\n",
    "          [0,1,6],[1,1,6],[2,1,6]\n",
    "          ]"
   ]
  },
  {
   "cell_type": "code",
   "execution_count": 43,
   "id": "1f532f2d",
   "metadata": {},
   "outputs": [],
   "source": [
    "vectors = [[1,0,0],[1,1,0],[0,2,0],[1,0,0],[1,1,0],[0,2,0],\n",
    "           [1,0,0],[1,1,0],[0,2,0],[1,0,0],[1,1,0],[0,2,0],\n",
    "           [0,0,1],[0,0,1],[0,0,1],[0,0,1],[0,0,1],[0,0,1],\n",
    "           [0,0,1],[0,0,1],[0,0,1],[0,0,1],[0,0,1],[0,0,1],\n",
    "           [0,0,1],[0,0,1],[0,0,1]\n",
    "           ]"
   ]
  },
  {
   "cell_type": "code",
   "execution_count": 44,
   "id": "0cc1d1b1",
   "metadata": {},
   "outputs": [],
   "source": [
    "vtk_dataset_6 = VtkData(\n",
    "        UnstructuredGrid( points,\n",
    "             hexahedron=[[0,1,4,3,6,7,10,9], [1,2,5,4,7,8,11,10]],\n",
    "             tetra=[[6,10,9,12], [5,11,10,14]],\n",
    "             polygon=[15,16,17,14,13,12],\n",
    "             triangle_strip=[18,15,19,16,20,17],\n",
    "             quad=[22,23,20,19],\n",
    "             triangle=[[21,22,18], [22,19,18]],\n",
    "             line=[26,25],\n",
    "             vertex=[24]\n",
    "             ),\n",
    "        PointData(Vectors(vectors), Scalars(range(27))),\n",
    "        'Unstructured Grid Example'\n",
    "        )"
   ]
  },
  {
   "cell_type": "code",
   "execution_count": 45,
   "id": "90c7a05c",
   "metadata": {},
   "outputs": [],
   "source": [
    "vtk_dataset_6.tofile('vtk_example3')"
   ]
  },
  {
   "cell_type": "markdown",
   "id": "c52a7333",
   "metadata": {},
   "source": [
    "#### Activities\n",
    "\n",
    "- modify mesh (add or remove shapes, combine to make others)"
   ]
  },
  {
   "cell_type": "markdown",
   "id": "ea983029",
   "metadata": {},
   "source": [
    "## Elevation data example 1:"
   ]
  },
  {
   "cell_type": "code",
   "execution_count": 47,
   "id": "d4cfe752",
   "metadata": {
    "collapsed": true,
    "jupyter": {
     "outputs_hidden": true
    }
   },
   "outputs": [
    {
     "name": "stdout",
     "output_type": "stream",
     "text": [
      "--2024-03-01 02:00:19--  https://github.com/jonaslindemann/compute-course-public/raw/master/dataviz/colorado_elev.vit\n",
      "Resolving github.com (github.com)... 192.30.255.112\n",
      "Connecting to github.com (github.com)|192.30.255.112|:443... connected.\n",
      "HTTP request sent, awaiting response... 302 Found\n",
      "Location: https://raw.githubusercontent.com/jonaslindemann/compute-course-public/master/dataviz/colorado_elev.vit [following]\n",
      "--2024-03-01 02:00:20--  https://raw.githubusercontent.com/jonaslindemann/compute-course-public/master/dataviz/colorado_elev.vit\n",
      "Resolving raw.githubusercontent.com (raw.githubusercontent.com)... 185.199.111.133, 185.199.108.133, 185.199.110.133, ...\n",
      "Connecting to raw.githubusercontent.com (raw.githubusercontent.com)|185.199.111.133|:443... connected.\n",
      "HTTP request sent, awaiting response... 200 OK\n",
      "Length: 160268 (157K) [application/octet-stream]\n",
      "Saving to: ‘colorado_elev.vit.1’\n",
      "\n",
      "colorado_elev.vit.1 100%[===================>] 156.51K  --.-KB/s    in 0.03s   \n",
      "\n",
      "2024-03-01 02:00:20 (4.70 MB/s) - ‘colorado_elev.vit.1’ saved [160268/160268]\n",
      "\n"
     ]
    }
   ],
   "source": [
    "## download example DEM\n",
    "!wget https://github.com/jonaslindemann/compute-course-public/raw/master/dataviz/colorado_elev.vit"
   ]
  },
  {
   "cell_type": "code",
   "execution_count": 3,
   "id": "b4b9b36c",
   "metadata": {},
   "outputs": [],
   "source": [
    "f = open(\"colorado_elev.vit\", \"rb\")  # open the file\n",
    "f.seek(268, os.SEEK_SET)  # seek\n",
    "\n",
    "data = np.fromfile(f, dtype=np.ubyte)  # read the data into numpy\n",
    "\n",
    "f.close()"
   ]
  },
  {
   "cell_type": "code",
   "execution_count": 4,
   "id": "232950a2",
   "metadata": {},
   "outputs": [],
   "source": [
    "elevation = np.reshape(data, (400,400)) # reshape to 2D"
   ]
  },
  {
   "cell_type": "code",
   "execution_count": 5,
   "id": "3d0813f5",
   "metadata": {},
   "outputs": [
    {
     "data": {
      "image/png": "[encoded data removed]",
      "text/plain": [
       "<Figure size 432x288 with 1 Axes>"
      ]
     },
     "metadata": {
      "needs_background": "light"
     },
     "output_type": "display_data"
    }
   ],
   "source": [
    "plt.imshow(elevation)\n",
    "plt.show()"
   ]
  },
  {
   "cell_type": "code",
   "execution_count": 6,
   "id": "23c9a6b6",
   "metadata": {},
   "outputs": [],
   "source": [
    "pointdata = PointData(Scalars(data))\n",
    "data = VtkData(StructuredPoints([400,400]), pointdata)"
   ]
  },
  {
   "cell_type": "code",
   "execution_count": null,
   "id": "2252ae96",
   "metadata": {},
   "outputs": [],
   "source": [
    "data.tofile('elevation','ascii')"
   ]
  },
  {
   "cell_type": "markdown",
   "id": "e5612a94",
   "metadata": {},
   "source": [
    "#### Activities:\n",
    "\n",
    "- open in ParaView\n",
    "- apply 'warpToScalar' filter\n",
    "- adjust colormap / representation to best highlight elevation differences"
   ]
  },
  {
   "cell_type": "markdown",
   "id": "910c1281",
   "metadata": {},
   "source": [
    "## Elevation data example 2:"
   ]
  },
  {
   "cell_type": "code",
   "execution_count": 11,
   "id": "c6e2446b",
   "metadata": {},
   "outputs": [],
   "source": [
    "from pyvista import examples"
   ]
  },
  {
   "cell_type": "code",
   "execution_count": 12,
   "id": "239511dc",
   "metadata": {},
   "outputs": [
    {
     "data": {
      "text/html": [
       "<table><tr><th>Header</th><th>Data Arrays</th></tr><tr><td>\n",
       "<table>\n",
       "<tr><th>UniformGrid</th><th>Information</th></tr>\n",
       "<tr><td>N Cells</td><td>1677401</td></tr>\n",
       "<tr><td>N Points</td><td>1680000</td></tr>\n",
       "<tr><td>X Bounds</td><td>1.810e+06, 1.831e+06</td></tr>\n",
       "<tr><td>Y Bounds</td><td>5.640e+06, 5.658e+06</td></tr>\n",
       "<tr><td>Z Bounds</td><td>0.000e+00, 0.000e+00</td></tr>\n",
       "<tr><td>Dimensions</td><td>1400, 1200, 1</td></tr>\n",
       "<tr><td>Spacing</td><td>1.500e+01, 1.500e+01, 0.000e+00</td></tr>\n",
       "<tr><td>N Arrays</td><td>1</td></tr>\n",
       "</table>\n",
       "\n",
       "</td><td>\n",
       "<table>\n",
       "<tr><th>Name</th><th>Field</th><th>Type</th><th>N Comp</th><th>Min</th><th>Max</th></tr>\n",
       "<tr><td><b>scalar1of1</b></td><td>Points</td><td>float64</td><td>1</td><td>7.339e+02</td><td>2.787e+03</td></tr>\n",
       "</table>\n",
       "\n",
       "</td></tr> </table>"
      ],
      "text/plain": [
       "UniformGrid (0x7f4fc374b340)\n",
       "  N Cells:      1677401\n",
       "  N Points:     1680000\n",
       "  X Bounds:     1.810e+06, 1.831e+06\n",
       "  Y Bounds:     5.640e+06, 5.658e+06\n",
       "  Z Bounds:     0.000e+00, 0.000e+00\n",
       "  Dimensions:   1400, 1200, 1\n",
       "  Spacing:      1.500e+01, 1.500e+01, 0.000e+00\n",
       "  N Arrays:     1"
      ]
     },
     "execution_count": 12,
     "metadata": {},
     "output_type": "execute_result"
    }
   ],
   "source": [
    "dem = examples.download_crater_topo()\n",
    "dem"
   ]
  },
  {
   "cell_type": "markdown",
   "id": "349b768e",
   "metadata": {},
   "source": [
    "Now let’s subsample and extract an area of interest to make this example simple.\n",
    "\n",
    "Since the DEM we loaded is a `pyvista.ImageData` mesh, \n",
    "we can use the `pyvista.ImageDataFilters.extract_subset()` filter:"
   ]
  },
  {
   "cell_type": "code",
   "execution_count": 13,
   "id": "96e16217",
   "metadata": {},
   "outputs": [
    {
     "data": {
      "application/vnd.jupyter.widget-view+json": {
       "model_id": "bcfb6e204f984dcfaab0bacd760e9f22",
       "version_major": 2,
       "version_minor": 0
      },
      "text/plain": [
       "Widget(value=\"<iframe src='http://localhost:38595/index.html?ui=P_0x7f4fc374d700_0&reconnect=auto' style='widt…"
      ]
     },
     "metadata": {},
     "output_type": "display_data"
    }
   ],
   "source": [
    "subset = dem.extract_subset((500, 900, 400, 800, 0, 0), (5, 5, 1))\n",
    "subset.plot(cpos=\"xy\")"
   ]
  },
  {
   "cell_type": "code",
   "execution_count": 14,
   "id": "04e1462e",
   "metadata": {},
   "outputs": [
    {
     "data": {
      "text/html": [
       "<table><tr><th>Header</th><th>Data Arrays</th></tr><tr><td>\n",
       "<table>\n",
       "<tr><th>StructuredGrid</th><th>Information</th></tr>\n",
       "<tr><td>N Cells</td><td>6400</td></tr>\n",
       "<tr><td>N Points</td><td>6561</td></tr>\n",
       "<tr><td>X Bounds</td><td>1.818e+06, 1.824e+06</td></tr>\n",
       "<tr><td>Y Bounds</td><td>5.646e+06, 5.652e+06</td></tr>\n",
       "<tr><td>Z Bounds</td><td>1.441e+03, 2.769e+03</td></tr>\n",
       "<tr><td>Dimensions</td><td>81, 81, 1</td></tr>\n",
       "<tr><td>N Arrays</td><td>1</td></tr>\n",
       "</table>\n",
       "\n",
       "</td><td>\n",
       "<table>\n",
       "<tr><th>Name</th><th>Field</th><th>Type</th><th>N Comp</th><th>Min</th><th>Max</th></tr>\n",
       "<tr><td><b>scalar1of1</b></td><td>Points</td><td>float64</td><td>1</td><td>1.441e+03</td><td>2.769e+03</td></tr>\n",
       "</table>\n",
       "\n",
       "</td></tr> </table>"
      ],
      "text/plain": [
       "StructuredGrid (0x7f4fe534f280)\n",
       "  N Cells:      6400\n",
       "  N Points:     6561\n",
       "  X Bounds:     1.818e+06, 1.824e+06\n",
       "  Y Bounds:     5.646e+06, 5.652e+06\n",
       "  Z Bounds:     1.441e+03, 2.769e+03\n",
       "  Dimensions:   81, 81, 1\n",
       "  N Arrays:     1"
      ]
     },
     "execution_count": 14,
     "metadata": {},
     "output_type": "execute_result"
    }
   ],
   "source": [
    "terrain = subset.warp_by_scalar()\n",
    "terrain"
   ]
  },
  {
   "cell_type": "code",
   "execution_count": 15,
   "id": "3e5d870f",
   "metadata": {},
   "outputs": [
    {
     "data": {
      "application/vnd.jupyter.widget-view+json": {
       "model_id": "2b28a9e6bbba4df4aa9b17b61c2cad29",
       "version_major": 2,
       "version_minor": 0
      },
      "text/plain": [
       "Widget(value=\"<iframe src='http://localhost:38595/index.html?ui=P_0x7f4fe5352e20_1&reconnect=auto' style='widt…"
      ]
     },
     "metadata": {},
     "output_type": "display_data"
    }
   ],
   "source": [
    "terrain.plot()"
   ]
  },
  {
   "cell_type": "markdown",
   "id": "0351ea00",
   "metadata": {},
   "source": [
    "And now we have a 3D structured surface of the terrain. We can now extend that structured surface into a 3D mesh to form a terrain following grid."
   ]
  },
  {
   "cell_type": "code",
   "execution_count": 16,
   "id": "bdfc923b",
   "metadata": {},
   "outputs": [
    {
     "data": {
      "text/html": [
       "<table><tr><th>Header</th><th>Data Arrays</th></tr><tr><td>\n",
       "<table>\n",
       "<tr><th>StructuredGrid</th><th>Information</th></tr>\n",
       "<tr><td>N Cells</td><td>70400</td></tr>\n",
       "<tr><td>N Points</td><td>78732</td></tr>\n",
       "<tr><td>X Bounds</td><td>1.818e+06, 1.824e+06</td></tr>\n",
       "<tr><td>Y Bounds</td><td>5.646e+06, 5.652e+06</td></tr>\n",
       "<tr><td>Z Bounds</td><td>9.364e+02, 2.744e+03</td></tr>\n",
       "<tr><td>Dimensions</td><td>81, 81, 12</td></tr>\n",
       "<tr><td>N Arrays</td><td>1</td></tr>\n",
       "</table>\n",
       "\n",
       "</td><td>\n",
       "<table>\n",
       "<tr><th>Name</th><th>Field</th><th>Type</th><th>N Comp</th><th>Min</th><th>Max</th></tr>\n",
       "<tr><td><b>Elevation</b></td><td>Points</td><td>float64</td><td>1</td><td>9.364e+02</td><td>2.744e+03</td></tr>\n",
       "</table>\n",
       "\n",
       "</td></tr> </table>"
      ],
      "text/plain": [
       "StructuredGrid (0x7f4fa31dd940)\n",
       "  N Cells:      70400\n",
       "  N Points:     78732\n",
       "  X Bounds:     1.818e+06, 1.824e+06\n",
       "  Y Bounds:     5.646e+06, 5.652e+06\n",
       "  Z Bounds:     9.364e+02, 2.744e+03\n",
       "  Dimensions:   81, 81, 12\n",
       "  N Arrays:     1"
      ]
     },
     "execution_count": 16,
     "metadata": {},
     "output_type": "execute_result"
    }
   ],
   "source": [
    "z_cells = np.array([25] * 5 + [35] * 3 + [50] * 2 + [75, 100])\n",
    "\n",
    "xx = np.repeat(terrain.x, len(z_cells), axis=-1)\n",
    "yy = np.repeat(terrain.y, len(z_cells), axis=-1)\n",
    "zz = np.repeat(terrain.z, len(z_cells), axis=-1) - np.cumsum(z_cells).reshape((1, 1, -1))\n",
    "\n",
    "mesh = pv.StructuredGrid(xx, yy, zz)\n",
    "mesh[\"Elevation\"] = zz.ravel(order=\"F\")\n",
    "mesh"
   ]
  },
  {
   "cell_type": "code",
   "execution_count": 17,
   "id": "701f0123",
   "metadata": {},
   "outputs": [
    {
     "data": {
      "application/vnd.jupyter.widget-view+json": {
       "model_id": "c31ff7961e6f4725bd4a392dc25c4d4a",
       "version_major": 2,
       "version_minor": 0
      },
      "text/plain": [
       "Widget(value=\"<iframe src='http://localhost:38595/index.html?ui=P_0x7f4f82dc29a0_2&reconnect=auto' style='widt…"
      ]
     },
     "metadata": {},
     "output_type": "display_data"
    }
   ],
   "source": [
    "mesh.plot(show_edges=True)"
   ]
  },
  {
   "cell_type": "code",
   "execution_count": 18,
   "id": "ef218acd",
   "metadata": {},
   "outputs": [],
   "source": [
    "## save to disk\n",
    "mesh.save('terrain_following_grid.vtk')"
   ]
  },
  {
   "cell_type": "markdown",
   "id": "3cbfd0e4",
   "metadata": {},
   "source": [
    "## reference:\n",
    "- https://tutorial.pyvista.org/tutorial/00_jupyter/index.html\n",
    "- https://tutorial.pyvista.org/tutorial/06_vtk/b_create_vtk.html\n",
    "- https://docs.pyvista.org/version/stable/examples/\n",
    "- https://www.youtube.com/watch?v=b8N_xvRZCho&ab_channel=JonasLindemann\n",
    "- https://docs.pyvista.org/version/stable/examples/00-load/terrain-mesh#sphx-glr-examples-00-load-terrain-mesh-py"
   ]
  },
  {
   "cell_type": "code",
   "execution_count": null,
   "id": "97783d64",
   "metadata": {},
   "outputs": [],
   "source": []
  }
 ],
 "metadata": {
  "kernelspec": {
   "display_name": "Python 3 (ipykernel)",
   "language": "python",
   "name": "python3"
  },
  "language_info": {
   "codemirror_mode": {
    "name": "ipython",
    "version": 3
   },
   "file_extension": ".py",
   "mimetype": "text/x-python",
   "name": "python",
   "nbconvert_exporter": "python",
   "pygments_lexer": "ipython3",
   "version": "3.8.10"
  }
 },
 "nbformat": 4,
 "nbformat_minor": 5
}
